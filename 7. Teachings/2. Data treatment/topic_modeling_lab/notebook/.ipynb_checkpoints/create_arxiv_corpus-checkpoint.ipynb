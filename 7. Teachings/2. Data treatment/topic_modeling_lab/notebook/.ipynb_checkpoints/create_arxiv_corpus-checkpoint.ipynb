{
 "cells": [
  {
   "cell_type": "markdown",
   "metadata": {},
   "source": [
    "# Creation of text corpus from arxiv archives"
   ]
  },
  {
   "cell_type": "markdown",
   "metadata": {},
   "source": [
    "In this notebook you will create a corpus of documents for further processing with LDA routines. For this, you will follow the following steps:\n",
    "1. Download of data from arxiv using the API\n",
    "2. Extraction of dates and abstracts of each paper\n",
    "3. Removal of stopwords and stemming\n",
    "4. Formatting the corpus according to the format of topic modeling routines"
   ]
  },
  {
   "cell_type": "markdown",
   "metadata": {},
   "source": [
    "## 1. Data download (35 min)"
   ]
  },
  {
   "cell_type": "markdown",
   "metadata": {},
   "source": [
    "Before implementing this section, you should carry out the following tasks on your web browser:\n",
    "\n",
    "1. Go to the webpage http://www.arxiv.org, and explore the site. Make sure to use the search function, and analyze what information is provided for each paper in the database\n",
    "2. Read now information on the arxiv API at http://arxiv.org/help/api/user-manual. Go through the following sections: 1, 2, 3.1 to 3.3, 4 (python only), and 5. Test while you read using your web browser."
   ]
  },
  {
   "cell_type": "markdown",
   "metadata": {},
   "source": [
    "Now, you are ready to download a feed with information of your choice. The following fragment of code will build an URL of your choice, and retrieve the desired data into a string. Fill in the required information, and make sure you download on a simple request 1000 documents of the category of your choice.  Note that, when accessing the API, the documents will be sorted out according to relevance."
   ]
  },
  {
   "cell_type": "code",
   "execution_count": 8,
   "metadata": {
    "collapsed": false
   },
   "outputs": [],
   "source": [
    "import urllib\n",
    "\n",
    "# The following line should be used to define your query. You can download\n",
    "# from a particular category, all documents that contain a particular word, etc ...\n",
    "s_q = 'search_query=cat:cs.CV' \n",
    "\n",
    "m_r = 'max_results=1000'\n",
    "url = 'http://export.arxiv.org/api/query?' + s_q + '&' + m_r\n",
    "\n",
    "#Uncommnet the following line if you want to check the correctness of your url in a web browser\n",
    "#print url\n",
    "\n",
    "#Uncomment the following line when you are done with the design of the query, and want to download\n",
    "#the query to your python variable 'data' \n",
    "#data = urllib.urlopen(url).read()\n",
    "print str(len(data)) + ' characters retrieved'"
   ]
  },
  {
   "cell_type": "markdown",
   "metadata": {},
   "source": [
    "## 2. Extraction of dates and abstracts (10 min)"
   ]
  },
  {
   "cell_type": "markdown",
   "metadata": {},
   "source": [
    "The following piece of code shows how we can access the relevant information. First, we create a feed object so that we can access relevant information more easily. With the provided code, you can check that there are 1000 entries, each one corresponding to one paper, and the dates of publication, title, and abstract, can also be easily accessed for each entry\n"
   ]
  },
  {
   "cell_type": "code",
   "execution_count": 17,
   "metadata": {
    "collapsed": false
   },
   "outputs": [],
   "source": [
    "import feedparser\n",
    "\n",
    "feed = feedparser.parse(data)\n",
    "\n",
    "#in feed.entries we have one object per each retrieved paper\n",
    "print str(len(feed.entries))\n",
    "\n",
    "#We now show how to access the title, publication date, and abstract of the paper\n",
    "print feed.entries[0].title\n",
    "print feed.entries[0].summary\n",
    "print feed.entries[0].published"
   ]
  },
  {
   "cell_type": "markdown",
   "metadata": {},
   "source": [
    "To complete this section, students are requested to create two lists: 'dates' and 'abstracts', keeping in each of them the dates and abstracts of the papers retrieved in the query. Note that python has other structures (tuples) that can be used for storing this information in a more organized way. For simplicity, here we will just recur to lists.\n",
    "\n",
    "Complete the required piece of code. The solution is provided in the next block, but try not to cheat and get yourself a working implementation."
   ]
  },
  {
   "cell_type": "code",
   "execution_count": 18,
   "metadata": {
    "collapsed": false
   },
   "outputs": [],
   "source": [
    "dates = list()\n",
    "abstracts = list()\n",
    "#for ..."
   ]
  },
  {
   "cell_type": "code",
   "execution_count": 36,
   "metadata": {
    "collapsed": false
   },
   "outputs": [],
   "source": [
    "## Solution ####\n",
    "## Do not cheat ####\n",
    "#dates = list()\n",
    "#abstracts = list()\n",
    "#for entry in feed.entries:\n",
    "#    dates.append(entry.published[0:4])\n",
    "#    abstracts.append(entry.summary)"
   ]
  },
  {
   "cell_type": "markdown",
   "metadata": {},
   "source": [
    "## 3. Removing stopwords and stemming (15 min)"
   ]
  },
  {
   "cell_type": "markdown",
   "metadata": {},
   "source": [
    "Before proceeding further, it is necessary to preprocess the text in the abstracts to perform the following tasks:\n",
    "\n",
    "1. Decomponse the text into words, removing punctuations signs and other irrelevant symbols\n",
    "2. Stemming: Using a dictionary, we keep the stem of each word. This way, verb forms collapse to the same stem, plurals are removed, etc.\n",
    "3. Stopwords: Removal of very common words, known as stopwords\n",
    "\n",
    "To perform these tasks we will recur to the functions implemented in the 'Natural Language Toolkit' (nltk) module. In the following we show how each of these tasks can be performed for a single abstract using the available functions and dictionaries. Please, note that the developed code is not very 'pythonic'. These implementations are as simple as possible and try to use just the basic functionality that was introduced in the previous notebook, but with python smarter implementations are possible and preferred."
   ]
  },
  {
   "cell_type": "markdown",
   "metadata": {},
   "source": [
    "We start by detecting the words, and keeping only those that contain just alphanumeric characters:"
   ]
  },
  {
   "cell_type": "code",
   "execution_count": 54,
   "metadata": {
    "collapsed": false
   },
   "outputs": [],
   "source": [
    "text = abstracts[0]\n",
    "\n",
    "#From NLTK we import a function that splits the text into words (tokens)\n",
    "from nltk.tokenize import word_tokenize\n",
    "tokens = word_tokenize(text)\n",
    "\n",
    "#Next, we create a list keeping only alphanumeric tokens and removing capital letters\n",
    "tokenize_text = list()\n",
    "for token in tokens:\n",
    "    if token.isalnum():\n",
    "        tokenize_text.append(token.lower())\n",
    "        \n",
    "print tokenize_text"
   ]
  },
  {
   "cell_type": "markdown",
   "metadata": {},
   "source": [
    "To show how smart Python can be, note that the following 'one-liner' implements just the same functionality as the two previous nested for and if conditions:"
   ]
  },
  {
   "cell_type": "code",
   "execution_count": 59,
   "metadata": {
    "collapsed": false
   },
   "outputs": [],
   "source": [
    "tokenize_text = [token.lower() for token in tokens if token.isalnum()]\n",
    "print tokenize_text"
   ]
  },
  {
   "cell_type": "markdown",
   "metadata": {},
   "source": [
    "We can also recur to nltk resources to perform stemming and to remove stopwords:"
   ]
  },
  {
   "cell_type": "code",
   "execution_count": 60,
   "metadata": {
    "collapsed": false
   },
   "outputs": [],
   "source": [
    "import nltk.stem\n",
    "s= nltk.stem.SnowballStemmer('english')\n",
    "\n",
    "from nltk.corpus import stopwords\n",
    "eng_stopwords = stopwords.words('english')\n",
    "\n",
    "clean_text = list()\n",
    "for token in tokenize_text:\n",
    "    stem_token = s.stem(token)\n",
    "    if stem_token not in eng_stopwords:\n",
    "        clean_text.append(stem_token)\n",
    "\n",
    "print clean_text"
   ]
  },
  {
   "cell_type": "markdown",
   "metadata": {},
   "source": [
    "Finally, we can convert the list of words back to a single string using the 'join' command as follows:"
   ]
  },
  {
   "cell_type": "code",
   "execution_count": 61,
   "metadata": {
    "collapsed": false
   },
   "outputs": [],
   "source": [
    "clean_text = ' '.join(clean_text)\n",
    "print clean_text"
   ]
  },
  {
   "cell_type": "markdown",
   "metadata": {},
   "source": [
    "This representation has lost all grammar information, but keeps the semantic meaning of the original text through the concatenation of tokens. In other words, we assume that the semantic meaning of the abstract can be somehow decomposed into the sum of the semantic meaning of each token, neglecting other information, such as the order of the words.\n",
    "\n",
    "This representation is known as 'bag of words', and is the basis of most algorithms for topic modeling."
   ]
  },
  {
   "cell_type": "markdown",
   "metadata": {},
   "source": [
    "### Exercise:"
   ]
  },
  {
   "cell_type": "markdown",
   "metadata": {},
   "source": [
    "Apply all previous steps to process the abstracts of all papers in the list 'abstracts'. Save the processed abstracts in a new list named 'clean_abstracts'"
   ]
  },
  {
   "cell_type": "code",
   "execution_count": 62,
   "metadata": {
    "collapsed": false
   },
   "outputs": [],
   "source": [
    "clean_abstracts = list()"
   ]
  },
  {
   "cell_type": "code",
   "execution_count": 64,
   "metadata": {
    "collapsed": false
   },
   "outputs": [],
   "source": [
    "## Solution ####\n",
    "## Do not cheat ####\n",
    "\n",
    "from nltk.tokenize import word_tokenize\n",
    "import nltk.stem\n",
    "s= nltk.stem.SnowballStemmer('english')\n",
    "from nltk.corpus import stopwords\n",
    "eng_stopwords = stopwords.words('english')\n",
    "\n",
    "clean_abstracts = list()\n",
    "for abstract in abstracts:\n",
    "    tokens = word_tokenize(abstract)\n",
    "    tokens = [s.stem(token.lower()) for token in tokens if token.isalnum()]\n",
    "    tokens = [token for token in tokens if token not in eng_stopwords]\n",
    "    clean_abstracts.append(' '.join(tokens))\n",
    "    "
   ]
  },
  {
   "cell_type": "code",
   "execution_count": 66,
   "metadata": {
    "collapsed": false
   },
   "outputs": [],
   "source": [
    "print clean_abstracts[0:3]"
   ]
  },
  {
   "cell_type": "markdown",
   "metadata": {},
   "source": [
    "## 4. Format corpus for further processing with Blei's topic modeling toolbox (10 min)"
   ]
  },
  {
   "cell_type": "markdown",
   "metadata": {},
   "source": [
    "We are almost ready to start using tools for the automatic detection of topics. Before doing so, however, it is important that we create the text files that are required by the available code to perform Latent Dirichlet Allocation (LDA). Among the different available implementations, we will recur to C code provided by the group of Dr. David Blei: https://www.cs.princeton.edu/~blei/topicmodeling.html\n",
    "\n",
    "To start with, we will create the two following files:\n",
    "\n",
    "1. A file 'corpusname_corpus.txt' that contains a line for each document in the corpus; each line contains the text of the document ('\\n' is used to specify the end of each document, and is therefore not allowed in the description of the documents, but we have already addressed this issue).\n",
    "\n",
    "2. If we want to train dynamical models, it is also necessary to create a second file 'corpusname-seq.dat'. The first line of the file contains the total number of documents, and each subsequent line indicates the number of documents in each slot. This implies that the sum of numbers in lines 2:end should be equal to the total number of documents. Note that when using dynamic models we assume that the documents appear in the file 'corpusname_corpus.txt' in chronological order.\n",
    "\n",
    "Assumming that you have already created lists 'dates' and 'clean abstracts', the following piece of code will create the required files. Go through the code, and make sure you understand the whole fragment. Again, note that the code is not very efficient; a much more efficient code could be developed by using the full potential of the Python language."
   ]
  },
  {
   "cell_type": "code",
   "execution_count": 87,
   "metadata": {
    "collapsed": false
   },
   "outputs": [],
   "source": [
    "corpusname = 'arxiv_v0'\n",
    "\n",
    "# We first sort the lists according to dates by zipping the lists together, and then unzipping after sorting\n",
    "zipped_list = zip(dates, clean_abstracts)\n",
    "zipped_list.sort()\n",
    "\n",
    "dates = [el[0] for el in zipped_list]\n",
    "clean_abstracts = [el[1] for el in zipped_list]\n",
    "\n",
    "# We create the file with the corpus\n",
    "f = open(corpusname+'_corpus.txt', 'wb')\n",
    "for abstract in clean_abstracts:\n",
    "    f.write(abstract+'\\n')\n",
    "f.close()\n",
    "\n",
    "# We create the file for the dynamic model\n",
    "sorted_unique_dates = sorted(list(set(dates)))\n",
    "f = open(corpusname+'-seq.dat','wb')\n",
    "f.write(str(len(clean_abstracts))+'\\n')\n",
    "for date in sorted_unique_dates:\n",
    "    f.write(str(dates.count(date))+'\\n')\n",
    "f.close()"
   ]
  },
  {
   "cell_type": "markdown",
   "metadata": {},
   "source": [
    "Actually, the format of the input files for Dr. Blei's software is slightly more complicated:\n",
    "\n",
    "    The data is a file where each line is of the form:\n",
    "\n",
    "    [M] [term_1]:[count] [term_2]:[count] ...  [term_N]:[count]\n",
    "\n",
    "    where [M] is the number of unique terms in the document, and the\n",
    "    [count] associated with each term is how many times that term appeared\n",
    "    in the document.  Note that [term_1] is an integer which indexes the\n",
    "    term; it is not a string.\n",
    "    \n",
    "The following function precisely works on the file 'corpusname_corpus.txt', and generates the two following files:\n",
    "\n",
    "* 'corpusname-mult.dat': Which is the file in the format specified above\n",
    "* 'corpusname_vocab.txt': Which is a file containing the vocabulary of the corpus. Each line contain a different word, and the line number is the index associated to each word in the vocabulary"
   ]
  },
  {
   "cell_type": "code",
   "execution_count": null,
   "metadata": {
    "collapsed": true
   },
   "outputs": [],
   "source": [
    "def format_conversion(corpusname):\n",
    "    \n",
    "    from gensim import corpora\n",
    "    \n",
    "    #We start by creating the vocabulary file\n",
    "    dictionary = corpora.Dictionary(\n",
    "        [el for el in line.lower().split()]\n",
    "            for line in open(corpusname+'_corpus.txt'))\n",
    "    #Remove words that appear in less than no_below documents, or in more than\n",
    "    #no_above, and keep at most keep_n most frequent terms\n",
    "    dictionary.filter_extremes(no_below=4, no_above=0.5, keep_n=10000)\n",
    "    #We generate the vocabulary file\n",
    "    with open(corpusname + '_vocab.txt','wb') as f:\n",
    "        [f.write(dictionary[idx]+'\\n') for idx in range(len(dictionary))]\n",
    "\n",
    "    #We create now an iterable corpus (memory friendly)\n",
    "    class MyCorpus(object):\n",
    "        def __iter__(self):\n",
    "            for line in open(corpusname+'_corpus.txt'):\n",
    "                yield dictionary.doc2bow(line.lower().split())\n",
    "    corpus_gensim = MyCorpus()\n",
    "    #And generate the file with the format required by Blei's LDA implementation\n",
    "    with open(corpusname + '-mult.dat','wb') as f:\n",
    "        for docbow in corpus_gensim:\n",
    "            docstr = ' '.join([str(el[0])+':'+str(el[1]) for el in docbow])\n",
    "            f.write(str(len(docbow))+' '+docstr+'\\n')"
   ]
  },
  {
   "cell_type": "markdown",
   "metadata": {},
   "source": [
    "To use the function, execute the following command line:"
   ]
  },
  {
   "cell_type": "code",
   "execution_count": 2,
   "metadata": {
    "collapsed": false
   },
   "outputs": [],
   "source": [
    "format_conversion(corpusname)"
   ]
  },
  {
   "cell_type": "markdown",
   "metadata": {},
   "source": [
    "Verify that you can find in your working directory the files:\n",
    "\n",
    "* corpusname_vocab.txt\n",
    "* corpusname-mult.dat\n",
    "* corpusname-seq.dat\n",
    "\n",
    "Check also that the format of these files is as expected. Once you are done, you can proceed to the next section."
   ]
  },
  {
   "cell_type": "code",
   "execution_count": null,
   "metadata": {
    "collapsed": true
   },
   "outputs": [],
   "source": []
  }
 ],
 "metadata": {
  "kernelspec": {
   "display_name": "Python 2",
   "language": "python",
   "name": "python2"
  },
  "language_info": {
   "codemirror_mode": {
    "name": "ipython",
    "version": 2
   },
   "file_extension": ".py",
   "mimetype": "text/x-python",
   "name": "python",
   "nbconvert_exporter": "python",
   "pygments_lexer": "ipython2",
   "version": "2.7.8"
  }
 },
 "nbformat": 4,
 "nbformat_minor": 0
}
